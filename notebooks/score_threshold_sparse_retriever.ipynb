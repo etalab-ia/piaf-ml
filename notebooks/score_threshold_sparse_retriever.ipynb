{
 "cells": [
  {
   "cell_type": "markdown",
   "metadata": {},
   "source": [
    "# Recherche d'un seuil pour le score sparse \n",
    "### Objectif\n",
    "\n",
    "On cherche à déterminer un seuil optimal pour lequel on décide d'afficher la réponse ou pas. <br>\n",
    "*exemple: si seuil < 0.3, ne pas afficher la réponse*\n",
    "- D'abord on fait une *analyse statistique* rapide pour voir quelle est la distribution du score pour l'erreur et pour le succes du sparse\n",
    "- On tente ensuite une approche Machine Learning pour *classifier* 0: erreur (= on affiche pas la réponse) et 1: success (=on affiche la réponse)\n",
    "- On ouvre sur des potentielles pistes un peu plus 'probabilistes' et on propose d'aller plus loin dans la recherche d'une solution au problème\n",
    "<br>\n",
    "\n",
    "*Attention*, ici on utilise le dataset 'analysis_resultst.csv' (Robin), on s'intéresse exclusivement au **score sparse** et on se restraint au cas **k=5**. <br>\n",
    "D'abord le cas **with lemma**."
   ]
  },
  {
   "cell_type": "code",
   "execution_count": 44,
   "metadata": {},
   "outputs": [],
   "source": [
    "import json\n",
    "import numpy as np\n",
    "import pandas as pd\n",
    "import matplotlib.pyplot as plt\n",
    "import seaborn as sns\n",
    "import warnings\n",
    "warnings.filterwarnings('ignore')"
   ]
  },
  {
   "cell_type": "code",
   "execution_count": 46,
   "metadata": {},
   "outputs": [
    {
     "data": {
      "text/plain": [
       "36771"
      ]
     },
     "execution_count": 46,
     "metadata": {},
     "output_type": "execute_result"
    }
   ],
   "source": [
    "data = pd.read_csv(\"analysis_results.csv\")\n",
    "len(data)"
   ]
  },
  {
   "cell_type": "code",
   "execution_count": 47,
   "metadata": {},
   "outputs": [
    {
     "data": {
      "text/plain": [
       "626"
      ]
     },
     "execution_count": 47,
     "metadata": {},
     "output_type": "execute_result"
    }
   ],
   "source": [
    "data = data[data['position_sparse_lemma']==5.0]\n",
    "len(data) #626 résultats pour k = 5 (with lemma)"
   ]
  },
  {
   "cell_type": "code",
   "execution_count": 48,
   "metadata": {},
   "outputs": [
    {
     "name": "stdout",
     "output_type": "stream",
     "text": [
      "111\n"
     ]
    }
   ],
   "source": [
    "suc = data[data['fiche_ok'] == True] \n",
    "suc_nan = suc[pd.isnull(suc['score_sparse_lemma'])]['score_sparse_lemma'] \n",
    "print(len(suc)) #111 success pour k = 5 et retriever sparse (with lemma)\n",
    "suc['label'] = ['succes' for x in range(len(suc))]"
   ]
  },
  {
   "cell_type": "code",
   "execution_count": 49,
   "metadata": {},
   "outputs": [
    {
     "name": "stdout",
     "output_type": "stream",
     "text": [
      "512\n"
     ]
    }
   ],
   "source": [
    "err = data[data['fiche_ok'] == False] #512 erreurs pour sparse et k = 5\n",
    "err = err[~pd.isnull(err['score_sparse_lemma'])] \n",
    "print(len(err))\n",
    "err['label'] = ['error' for x in range(len(err))]"
   ]
  },
  {
   "cell_type": "code",
   "execution_count": 50,
   "metadata": {},
   "outputs": [],
   "source": [
    "data2 = pd.concat([suc,err])"
   ]
  },
  {
   "cell_type": "markdown",
   "metadata": {},
   "source": [
    "## Analyse statistique "
   ]
  },
  {
   "cell_type": "markdown",
   "metadata": {},
   "source": [
    "**Boxplot pour erreurs et succes du sparse**"
   ]
  },
  {
   "cell_type": "code",
   "execution_count": 51,
   "metadata": {},
   "outputs": [
    {
     "data": {
      "image/png": "[encoded data removed]",
      "text/plain": [
       "<Figure size 432x288 with 1 Axes>"
      ]
     },
     "metadata": {
      "needs_background": "light"
     },
     "output_type": "display_data"
    }
   ],
   "source": [
    "ax = sns.boxplot(x=\"label\", y=\"score_sparse_lemma\", data=data2)"
   ]
  },
  {
   "cell_type": "code",
   "execution_count": 52,
   "metadata": {
    "scrolled": true
   },
   "outputs": [
    {
     "data": {
      "text/plain": [
       "Text(0.5, 1.0, 'Distribution of errors')"
      ]
     },
     "execution_count": 52,
     "metadata": {},
     "output_type": "execute_result"
    },
    {
     "data": {
      "image/png": "[encoded data removed]",
      "text/plain": [
       "<Figure size 432x288 with 2 Axes>"
      ]
     },
     "metadata": {
      "needs_background": "light"
     },
     "output_type": "display_data"
    }
   ],
   "source": [
    "plt.subplot(1, 2, 1)\n",
    "ax1 = sns.boxplot(x=suc['score_sparse_lemma']) #distribution success\n",
    "plt.title(\"Distribution of successes\")\n",
    "plt.subplot(1, 2, 2)\n",
    "ax2 = sns.boxplot(x=err['score_sparse_lemma']) #distribution erreur\n",
    "plt.title(\"Distribution of errors\")\n"
   ]
  },
  {
   "cell_type": "markdown",
   "metadata": {},
   "source": [
    "**Statistiques déscriptives**"
   ]
  },
  {
   "cell_type": "code",
   "execution_count": 53,
   "metadata": {},
   "outputs": [
    {
     "data": {
      "text/html": [
       "<div>\n",
       "<style scoped>\n",
       "    .dataframe tbody tr th:only-of-type {\n",
       "        vertical-align: middle;\n",
       "    }\n",
       "\n",
       "    .dataframe tbody tr th {\n",
       "        vertical-align: top;\n",
       "    }\n",
       "\n",
       "    .dataframe thead th {\n",
       "        text-align: right;\n",
       "    }\n",
       "</style>\n",
       "<table border=\"1\" class=\"dataframe\">\n",
       "  <thead>\n",
       "    <tr style=\"text-align: right;\">\n",
       "      <th></th>\n",
       "      <th>count</th>\n",
       "      <th>mean</th>\n",
       "      <th>std</th>\n",
       "      <th>min</th>\n",
       "      <th>25%</th>\n",
       "      <th>50%</th>\n",
       "      <th>75%</th>\n",
       "      <th>max</th>\n",
       "      <th>median</th>\n",
       "    </tr>\n",
       "    <tr>\n",
       "      <th>label</th>\n",
       "      <th></th>\n",
       "      <th></th>\n",
       "      <th></th>\n",
       "      <th></th>\n",
       "      <th></th>\n",
       "      <th></th>\n",
       "      <th></th>\n",
       "      <th></th>\n",
       "      <th></th>\n",
       "    </tr>\n",
       "  </thead>\n",
       "  <tbody>\n",
       "    <tr>\n",
       "      <th>error</th>\n",
       "      <td>512.0</td>\n",
       "      <td>19.614372</td>\n",
       "      <td>8.302991</td>\n",
       "      <td>1.884695</td>\n",
       "      <td>14.099058</td>\n",
       "      <td>18.620067</td>\n",
       "      <td>23.755569</td>\n",
       "      <td>74.822464</td>\n",
       "      <td>18.620067</td>\n",
       "    </tr>\n",
       "    <tr>\n",
       "      <th>succes</th>\n",
       "      <td>111.0</td>\n",
       "      <td>19.614263</td>\n",
       "      <td>7.799816</td>\n",
       "      <td>5.038723</td>\n",
       "      <td>14.587464</td>\n",
       "      <td>18.117577</td>\n",
       "      <td>22.929906</td>\n",
       "      <td>43.085250</td>\n",
       "      <td>18.117577</td>\n",
       "    </tr>\n",
       "  </tbody>\n",
       "</table>\n",
       "</div>"
      ],
      "text/plain": [
       "        count       mean       std       min        25%        50%        75%  \\\n",
       "label                                                                           \n",
       "error   512.0  19.614372  8.302991  1.884695  14.099058  18.620067  23.755569   \n",
       "succes  111.0  19.614263  7.799816  5.038723  14.587464  18.117577  22.929906   \n",
       "\n",
       "              max     median  \n",
       "label                         \n",
       "error   74.822464  18.620067  \n",
       "succes  43.085250  18.117577  "
      ]
     },
     "execution_count": 53,
     "metadata": {},
     "output_type": "execute_result"
    }
   ],
   "source": [
    "from statistics import median\n",
    "median_error = median(err['score_sparse_lemma'])\n",
    "median_success = median(suc['score_sparse_lemma'])\n",
    "stata = data2.groupby(['label']).describe()['score_sparse_lemma']\n",
    "stata['median'] = [median(err['score_sparse_lemma']),median(suc['score_sparse_lemma'])]\n",
    "stata"
   ]
  },
  {
   "cell_type": "markdown",
   "metadata": {},
   "source": [
    "**Correlation**"
   ]
  },
  {
   "cell_type": "code",
   "execution_count": 54,
   "metadata": {},
   "outputs": [],
   "source": [
    "#encoding labels\n",
    "from sklearn.preprocessing import LabelEncoder\n",
    "data2['label_encoded'] = LabelEncoder().fit_transform(data2['label'])\n",
    "#0: error, #1:success"
   ]
  },
  {
   "cell_type": "code",
   "execution_count": 55,
   "metadata": {},
   "outputs": [],
   "source": [
    "#correlation\n",
    "corr = data2.corr()"
   ]
  },
  {
   "cell_type": "markdown",
   "metadata": {},
   "source": [
    "**Density**"
   ]
  },
  {
   "cell_type": "code",
   "execution_count": 57,
   "metadata": {},
   "outputs": [
    {
     "data": {
      "text/plain": [
       "[<matplotlib.lines.Line2D at 0x7f84d573ee10>]"
      ]
     },
     "execution_count": 57,
     "metadata": {},
     "output_type": "execute_result"
    },
    {
     "data": {
      "image/png": "[encoded data removed]",
      "text/plain": [
       "<Figure size 432x288 with 2 Axes>"
      ]
     },
     "metadata": {
      "needs_background": "light"
     },
     "output_type": "display_data"
    }
   ],
   "source": [
    "import scipy.stats as stats\n",
    "plt.subplot(1, 2, 1)\n",
    "x =[i for i in range(len(err['score_sparse_lemma']))]\n",
    "plt.hist(err['score_sparse_lemma'],density=True)\n",
    "y = [i for i in range(0,80)]\n",
    "plt.plot(y, stats.norm.pdf(y, 19.614372, 8.302991))\n",
    "plt.subplot(1, 2, 2)\n",
    "x =[i for i in range(len(suc['score_sparse_lemma']))]\n",
    "plt.hist(suc['score_sparse_lemma'],density=True)\n",
    "y = [i for i in range(0,50)]\n",
    "plt.plot(y, stats.norm.pdf(y,19.614263, 7.799816))"
   ]
  },
  {
   "cell_type": "markdown",
   "metadata": {},
   "source": [
    "## Approche ML: classification ERROR /SUCCESS\n",
    "\n",
    "*On souhaiterait obtenir un classifieur qui, en fonction du score, puisse prédire 0: 'le retiever sparse va faire une erreur', 1: 'le retriever sparse va trouver la bonne réponse'. Ceci nous permetterait de décider si afficher la réponse (1) ou pas (0).* <br>\n",
    "On fait une regression logistique."
   ]
  },
  {
   "cell_type": "code",
   "execution_count": 58,
   "metadata": {},
   "outputs": [],
   "source": [
    "from sklearn.model_selection import train_test_split\n",
    "from sklearn.linear_model import LogisticRegression"
   ]
  },
  {
   "cell_type": "code",
   "execution_count": 59,
   "metadata": {},
   "outputs": [],
   "source": [
    "X_clf = data2['score_sparse_lemma']\n",
    "Y_clf = data2['label_encoded']\n",
    "X_train_clf, X_test_clf, y_train_clf, y_test_clf = train_test_split(X_clf , Y_clf, test_size=0.2, random_state=42)\n",
    "X_train_clf= np.array(X_train_clf).reshape((-1,1))\n",
    "X_test_clf= np.array(X_test_clf).reshape((-1,1))\n",
    "y_train_clf= np.array(y_train_clf).reshape((-1,1))\n",
    "y_test_clf= np.array(y_test_clf).reshape((-1,1))"
   ]
  },
  {
   "cell_type": "code",
   "execution_count": 60,
   "metadata": {},
   "outputs": [
    {
     "name": "stdout",
     "output_type": "stream",
     "text": [
      "[0 0 0 0 0 0 0 0 0 0 0 0 0 0 0 0 0 0 0 0 0 0 0 0 0 0 0 0 0 0 0 0 0 0 0 0 0\n",
      " 0 0 0 0 0 0 0 0 0 0 0 0 0 0 0 0 0 0 0 0 0 0 0 0 0 0 0 0 0 0 0 0 0 0 0 0 0\n",
      " 0 0 0 0 0 0 0 0 0 0 0 0 0 0 0 0 0 0 0 0 0 0 0 0 0 0 0 0 0 0 0 0 0 0 0 0 0\n",
      " 0 0 0 0 0 0 0 0 0 0 0 0 0 0]\n"
     ]
    }
   ],
   "source": [
    "clf = LogisticRegression()\n",
    "clf.fit(X_train_clf, y_train_clf)\n",
    "y_pred_clf = clf.predict(X_test_clf)\n",
    "print(y_pred_clf) "
   ]
  },
  {
   "cell_type": "markdown",
   "metadata": {},
   "source": [
    "Metrics:"
   ]
  },
  {
   "cell_type": "code",
   "execution_count": 61,
   "metadata": {},
   "outputs": [
    {
     "name": "stdout",
     "output_type": "stream",
     "text": [
      "              precision    recall  f1-score   support\n",
      "\n",
      "           0       0.80      1.00      0.89       100\n",
      "           1       0.00      0.00      0.00        25\n",
      "\n",
      "    accuracy                           0.80       125\n",
      "   macro avg       0.40      0.50      0.44       125\n",
      "weighted avg       0.64      0.80      0.71       125\n",
      "\n",
      "roc_auc_score:  0.5\n"
     ]
    }
   ],
   "source": [
    "from sklearn import metrics\n",
    "from sklearn.metrics import roc_auc_score\n",
    "print(metrics.classification_report(y_test_clf, y_pred_clf))\n",
    "print(\"roc_auc_score: \", roc_auc_score(y_test_clf, y_pred_clf))"
   ]
  },
  {
   "cell_type": "markdown",
   "metadata": {},
   "source": [
    "Modèle pas performant, le problème pourrait venir du fait que la classe *success* est sous-représentée. <br>\n",
    "**Dans la suite on balance les classes**"
   ]
  },
  {
   "cell_type": "code",
   "execution_count": 62,
   "metadata": {},
   "outputs": [],
   "source": [
    "#on balance les classes:\n",
    "from sklearn.utils import class_weight\n",
    "X_clf2 = data2['score_sparse_lemma']\n",
    "Y_clf2 = data2['label_encoded']\n",
    "X_train_clf2, X_test_clf2, y_train_clf2, y_test_clf2 = train_test_split(X_clf2 , Y_clf2, test_size=0.2, random_state=42)\n",
    "X_train_clf2= np.array(X_train_clf2).reshape((-1,1))\n",
    "X_test_clf2= np.array(X_test_clf2).reshape((-1,1))\n",
    "y_train_clf2= np.array(y_train_clf2).reshape((-1,1))\n",
    "y_test_clf2= np.array(y_test_clf2).reshape((-1,1))"
   ]
  },
  {
   "cell_type": "code",
   "execution_count": 63,
   "metadata": {},
   "outputs": [
    {
     "name": "stdout",
     "output_type": "stream",
     "text": [
      "[1 1 1 1 0 1 1 1 0 1 0 0 1 1 0 1 0 0 0 0 1 0 1 1 0 0 0 1 1 0 0 1 1 1 0 0 0\n",
      " 0 0 0 0 1 1 1 0 0 0 0 0 0 0 1 0 1 1 0 1 0 1 1 1 0 0 1 1 0 0 1 0 0 0 0 0 1\n",
      " 1 0 0 0 0 1 0 1 0 0 0 0 1 0 1 0 0 1 1 0 1 0 1 1 0 0 0 1 0 1 1 0 0 0 0 0 0\n",
      " 1 0 1 0 0 1 1 1 0 0 1 1 0 1]\n",
      "              precision    recall  f1-score   support\n",
      "\n",
      "           0       0.77      0.55      0.64       100\n",
      "           1       0.17      0.36      0.23        25\n",
      "\n",
      "    accuracy                           0.51       125\n",
      "   macro avg       0.47      0.46      0.44       125\n",
      "weighted avg       0.65      0.51      0.56       125\n",
      "\n",
      "roc_auc_score:  0.455\n"
     ]
    }
   ],
   "source": [
    "clf2 = LogisticRegression(class_weight='balanced')\n",
    "clf2.fit(X_train_clf2, y_train_clf2) \n",
    "y_pred_clf2 = clf2.predict(X_test_clf2)\n",
    "print(y_pred_clf2)\n",
    "print(metrics.classification_report(y_test_clf2, y_pred_clf2))\n",
    "print(\"roc_auc_score: \", roc_auc_score(y_test_clf2, y_pred_clf2))"
   ]
  },
  {
   "cell_type": "code",
   "execution_count": 64,
   "metadata": {},
   "outputs": [],
   "source": [
    "#on 'force' un certain poids\n",
    "from sklearn.utils import class_weight\n",
    "X_clf3 = data2['score_sparse_lemma']\n",
    "Y_clf3 = data2['label_encoded']\n",
    "X_train_clf3, X_test_clf3, y_train_clf3, y_test_clf3 = train_test_split(X_clf3 , Y_clf3, test_size=0.2, random_state=42)\n",
    "X_train_clf3= np.array(X_train_clf3).reshape((-1,1))\n",
    "X_test_clf3= np.array(X_test_clf3).reshape((-1,1))\n",
    "y_train_clf3= np.array(y_train_clf3).reshape((-1,1))\n",
    "y_test_clf3= np.array(y_test_clf3).reshape((-1,1))"
   ]
  },
  {
   "cell_type": "code",
   "execution_count": 65,
   "metadata": {},
   "outputs": [
    {
     "name": "stdout",
     "output_type": "stream",
     "text": [
      "[1 1 1 1 0 1 1 1 0 1 0 1 1 1 1 1 0 1 1 1 1 0 1 1 0 1 0 1 1 0 0 1 1 1 1 1 0\n",
      " 0 1 0 0 1 1 1 0 1 0 1 0 1 1 1 0 1 1 1 1 0 1 1 1 0 0 1 1 1 0 1 1 0 0 0 0 1\n",
      " 1 0 0 0 1 1 0 1 0 1 1 0 1 0 1 0 0 1 1 0 1 1 1 1 0 0 1 1 0 1 1 0 0 0 0 0 0\n",
      " 1 1 1 0 0 1 1 1 0 1 1 1 0 1]\n",
      "              precision    recall  f1-score   support\n",
      "\n",
      "           0       0.83      0.40      0.54       100\n",
      "           1       0.22      0.68      0.33        25\n",
      "\n",
      "    accuracy                           0.46       125\n",
      "   macro avg       0.53      0.54      0.44       125\n",
      "weighted avg       0.71      0.46      0.50       125\n",
      "\n",
      "roc_auc_score:  0.54\n"
     ]
    }
   ],
   "source": [
    "class_weights = {0:.17,1:.83}\n",
    "clf3 = LogisticRegression(class_weight=class_weights)\n",
    "clf3.fit(X_train_clf3, y_train_clf3) \n",
    "y_pred_clf3 = clf3.predict(X_test_clf3)\n",
    "print(y_pred_clf3)\n",
    "print(metrics.classification_report(y_test_clf3, y_pred_clf3))\n",
    "print(\"roc_auc_score: \", roc_auc_score(y_test_clf3, y_pred_clf3))"
   ]
  },
  {
   "cell_type": "markdown",
   "metadata": {},
   "source": [
    "## Approche probabiliste/autres pistes possibles\n",
    "\n",
    "\n",
    "**Idée 1**: traiter les questions comme des variables suivant une loi de Bernouilli(p), c'est à dire:\n",
    "- avec proba p, j'aurai 0 (= erreur)\n",
    "- avec proba 1-p, j'aurai 1 (= succes)\n",
    "\n",
    "et faire un test/des test statistiques avec différentes valeurs de $\\ p = p_{0}$ pour déterminer le seuil optimal $\\ p_{0}$\n",
    "\n",
    "Avantage:\n",
    "\n",
    "- solide du point de vue théorique\n",
    "\n",
    "Gros problème:\n",
    "\n",
    "- est-ce que la proba calculée par le retriever est une 'vraie' proba au sens mathématique du terme? Est ce que le score (ramené sur [0,1]) peut etre considéré / traité comme une proba? \n",
    "\n",
    "**Idée 2**: puisque errors et successes semblent (un peu près) suivre un modèle gaussien, tenter un GMM (gaussian mixture model) à traiter avec l'algorithme EM.\n",
    "\n",
    "# Conclusions et suite\n",
    "\n",
    "- une approche de classification ne semble par etre très performante pour traiter le problème\n",
    "- problème principal: les erreurs et les success semblent suivre une distribution quasiment égale (même moyenne, quasiement même maximum et minimum etc.). Il semblerait donc que le score pour chaque question soit 'indépendant' (40% peut etre un bon score pour une question mais pas pour une autre).\n",
    "\n",
    "A faire:\n",
    "- plus creuser les stats (ici on s'est restraint à k = 5, voir si pour k!= 5 le score se comporte de manière différente)\n",
    "- (avec Pavel): faire un peu de recherche pour mieux comprendre pourquoi on a cette distribution et éventuellement voir si le problème a déjà été resolu\n",
    "- peut-être passer à la recherche d'un score plus performant pour le dense ? (peut etre plus facile à traiter). Le sparse donne cependant des meilleurs résultats donc par forçement utile.\n",
    "\n",
    "\n"
   ]
  }
 ],
 "metadata": {
  "kernelspec": {
   "display_name": "Python 3",
   "language": "python",
   "name": "python3"
  },
  "language_info": {
   "codemirror_mode": {
    "name": "ipython",
    "version": 3
   },
   "file_extension": ".py",
   "mimetype": "text/x-python",
   "name": "python",
   "nbconvert_exporter": "python",
   "pygments_lexer": "ipython3",
   "version": "3.7.6"
  }
 },
 "nbformat": 4,
 "nbformat_minor": 4
}
