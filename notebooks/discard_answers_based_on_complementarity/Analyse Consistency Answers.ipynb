{
 "cells": [
  {
   "cell_type": "markdown",
   "metadata": {},
   "source": [
    "# Introduction"
   ]
  },
  {
   "cell_type": "markdown",
   "metadata": {},
   "source": [
    "Il est important de ne pas montrer à l'utilisateur n'importe quel résultat car cela pourrait décridibiliser le robot. Au début notamment quand l'utilisateur n'a choisi qu'un thème et que les performances du retriever sont connues pour être encore faibles. \n",
    "Un moyen envisagé est de regarder dans quels dossiers se trouvent les fiches remontées par les retrievers. En fonction de la consistence de cette information, prendre une décision sur garder les fiches remontées ou alors demander à l'utilisateur de descendre dans l'arborescence. \n",
    "On utilise les résultats générés à partir des deux expériences suivantes : \n",
    "`\n",
    "experiment_id,knowledge_base,test_dataset,lemma_preprocessing,k,dual_retriever_top_k,filter_level,retriever_type,nb_documents,correctly_retrieved,weighted_precision,precision,avg_time_s,date,hostname\n",
    "a082,./data/v11,./data/407_question-fiche_anonym.csv,False,5,50,theme,sparse,324,157,True,0.3841931216931216,0.024913866912916652,2020-11-04_11-27-53,trololo-computer\n",
    "267b,./data/v11,./data/407_question-fiche_anonym.csv,False,5,50,theme,dense,324,96,True,0.23055555555555557,0.18590225191215354,2020-11-04_11-30-44,trololo-computer\n",
    "`"
   ]
  },
  {
   "cell_type": "markdown",
   "metadata": {},
   "source": [
    "On agrège les résultats selon deux méthodes de calcul de la complémentarité différentes. \n",
    "Méthode 1: La complémentarité est calculée pour chaque fiche remontée par rapport à son poids sur les autres fiches :\n",
    "```\n",
    "def get_consistency_v1 (fiche, pred_fiche):\n",
    "    nb = 0\n",
    "    cnt = 0\n",
    "    for pred in pred_fiche:\n",
    "        cnt += 1\n",
    "        if pred[4] == fiche[4]:\n",
    "            nb +=1\n",
    "    return nb/cnt\n",
    "```\n",
    "  "
   ]
  },
  {
   "cell_type": "markdown",
   "metadata": {},
   "source": [
    "Dans la deuxième méthode chaque batch de fiches retrouvées se voit attribuer un score unique en fonction du nombre de fiches différentes dans le batch :\n",
    "```\n",
    "def get_consistency_v2 (fiche, pred_fiche):\n",
    "    pred_fiche_names = []\n",
    "    for pred in pred_fiche:\n",
    "        pred_fiche_names.append(pred[4])\n",
    "    nb = len(set(pred_fiche_names)) - 1\n",
    "    cnt = len(pred_fiche)\n",
    "    return 1 - nb/cnt\n",
    "```"
   ]
  },
  {
   "cell_type": "markdown",
   "metadata": {},
   "source": [
    "On cherche à trouver un moyen de rejeter les fiches si le score n'est pas bon."
   ]
  },
  {
   "cell_type": "markdown",
   "metadata": {},
   "source": [
    "# Methode 1"
   ]
  },
  {
   "cell_type": "code",
   "execution_count": 27,
   "metadata": {},
   "outputs": [],
   "source": [
    "import pandas as pd\n",
    "import matplotlib.pyplot as plt"
   ]
  },
  {
   "cell_type": "code",
   "execution_count": 31,
   "metadata": {},
   "outputs": [
    {
     "data": {
      "text/html": [
       "<div>\n",
       "<style scoped>\n",
       "    .dataframe tbody tr th:only-of-type {\n",
       "        vertical-align: middle;\n",
       "    }\n",
       "\n",
       "    .dataframe tbody tr th {\n",
       "        vertical-align: top;\n",
       "    }\n",
       "\n",
       "    .dataframe thead th {\n",
       "        text-align: right;\n",
       "    }\n",
       "</style>\n",
       "<table border=\"1\" class=\"dataframe\">\n",
       "  <thead>\n",
       "    <tr style=\"text-align: right;\">\n",
       "      <th></th>\n",
       "      <th>question</th>\n",
       "      <th>fiche</th>\n",
       "      <th>fiche_ok</th>\n",
       "      <th>score_dense_no_lemma</th>\n",
       "      <th>score_sparse_no_lemma</th>\n",
       "      <th>score_dense_lemma</th>\n",
       "      <th>score_sparse_lemma</th>\n",
       "      <th>position_dense_no_lemma</th>\n",
       "      <th>position_sparse_no_lemma</th>\n",
       "      <th>position_dense_lemma</th>\n",
       "      <th>position_sparse_lemma</th>\n",
       "      <th>consistency_dense_no_lemma</th>\n",
       "      <th>consistency_sparse_no_lemma</th>\n",
       "      <th>consistency_dense_lemma</th>\n",
       "      <th>consistency_sparse_lemma</th>\n",
       "      <th>level</th>\n",
       "    </tr>\n",
       "  </thead>\n",
       "  <tbody>\n",
       "    <tr>\n",
       "      <th>0</th>\n",
       "      <td>2825380_0</td>\n",
       "      <td>F2883</td>\n",
       "      <td>True</td>\n",
       "      <td>0.35315</td>\n",
       "      <td>33.481660</td>\n",
       "      <td>NaN</td>\n",
       "      <td>NaN</td>\n",
       "      <td>5.0</td>\n",
       "      <td>5.0</td>\n",
       "      <td>NaN</td>\n",
       "      <td>NaN</td>\n",
       "      <td>0.8</td>\n",
       "      <td>0.8</td>\n",
       "      <td>NaN</td>\n",
       "      <td>NaN</td>\n",
       "      <td>theme</td>\n",
       "    </tr>\n",
       "    <tr>\n",
       "      <th>1</th>\n",
       "      <td>2825380_0</td>\n",
       "      <td>F32431</td>\n",
       "      <td>False</td>\n",
       "      <td>NaN</td>\n",
       "      <td>34.728848</td>\n",
       "      <td>NaN</td>\n",
       "      <td>NaN</td>\n",
       "      <td>NaN</td>\n",
       "      <td>4.0</td>\n",
       "      <td>NaN</td>\n",
       "      <td>NaN</td>\n",
       "      <td>NaN</td>\n",
       "      <td>0.8</td>\n",
       "      <td>NaN</td>\n",
       "      <td>NaN</td>\n",
       "      <td>theme</td>\n",
       "    </tr>\n",
       "    <tr>\n",
       "      <th>2</th>\n",
       "      <td>2827357_0</td>\n",
       "      <td>F1028</td>\n",
       "      <td>False</td>\n",
       "      <td>0.19270</td>\n",
       "      <td>26.553139</td>\n",
       "      <td>NaN</td>\n",
       "      <td>NaN</td>\n",
       "      <td>5.0</td>\n",
       "      <td>1.0</td>\n",
       "      <td>NaN</td>\n",
       "      <td>NaN</td>\n",
       "      <td>0.8</td>\n",
       "      <td>0.8</td>\n",
       "      <td>NaN</td>\n",
       "      <td>NaN</td>\n",
       "      <td>theme</td>\n",
       "    </tr>\n",
       "    <tr>\n",
       "      <th>3</th>\n",
       "      <td>2827357_0</td>\n",
       "      <td>F31847</td>\n",
       "      <td>True</td>\n",
       "      <td>NaN</td>\n",
       "      <td>23.124060</td>\n",
       "      <td>NaN</td>\n",
       "      <td>NaN</td>\n",
       "      <td>NaN</td>\n",
       "      <td>5.0</td>\n",
       "      <td>NaN</td>\n",
       "      <td>NaN</td>\n",
       "      <td>NaN</td>\n",
       "      <td>0.8</td>\n",
       "      <td>NaN</td>\n",
       "      <td>NaN</td>\n",
       "      <td>theme</td>\n",
       "    </tr>\n",
       "    <tr>\n",
       "      <th>4</th>\n",
       "      <td>2832443_0</td>\n",
       "      <td>F1709</td>\n",
       "      <td>False</td>\n",
       "      <td>NaN</td>\n",
       "      <td>18.424984</td>\n",
       "      <td>NaN</td>\n",
       "      <td>NaN</td>\n",
       "      <td>NaN</td>\n",
       "      <td>5.0</td>\n",
       "      <td>NaN</td>\n",
       "      <td>NaN</td>\n",
       "      <td>NaN</td>\n",
       "      <td>0.4</td>\n",
       "      <td>NaN</td>\n",
       "      <td>NaN</td>\n",
       "      <td>theme</td>\n",
       "    </tr>\n",
       "  </tbody>\n",
       "</table>\n",
       "</div>"
      ],
      "text/plain": [
       "    question   fiche  fiche_ok  score_dense_no_lemma  score_sparse_no_lemma  \\\n",
       "0  2825380_0   F2883      True               0.35315              33.481660   \n",
       "1  2825380_0  F32431     False                   NaN              34.728848   \n",
       "2  2827357_0   F1028     False               0.19270              26.553139   \n",
       "3  2827357_0  F31847      True                   NaN              23.124060   \n",
       "4  2832443_0   F1709     False                   NaN              18.424984   \n",
       "\n",
       "   score_dense_lemma  score_sparse_lemma  position_dense_no_lemma  \\\n",
       "0                NaN                 NaN                      5.0   \n",
       "1                NaN                 NaN                      NaN   \n",
       "2                NaN                 NaN                      5.0   \n",
       "3                NaN                 NaN                      NaN   \n",
       "4                NaN                 NaN                      NaN   \n",
       "\n",
       "   position_sparse_no_lemma  position_dense_lemma  position_sparse_lemma  \\\n",
       "0                       5.0                   NaN                    NaN   \n",
       "1                       4.0                   NaN                    NaN   \n",
       "2                       1.0                   NaN                    NaN   \n",
       "3                       5.0                   NaN                    NaN   \n",
       "4                       5.0                   NaN                    NaN   \n",
       "\n",
       "   consistency_dense_no_lemma  consistency_sparse_no_lemma  \\\n",
       "0                         0.8                          0.8   \n",
       "1                         NaN                          0.8   \n",
       "2                         0.8                          0.8   \n",
       "3                         NaN                          0.8   \n",
       "4                         NaN                          0.4   \n",
       "\n",
       "   consistency_dense_lemma  consistency_sparse_lemma  level  \n",
       "0                      NaN                       NaN  theme  \n",
       "1                      NaN                       NaN  theme  \n",
       "2                      NaN                       NaN  theme  \n",
       "3                      NaN                       NaN  theme  \n",
       "4                      NaN                       NaN  theme  "
      ]
     },
     "execution_count": 31,
     "metadata": {},
     "output_type": "execute_result"
    }
   ],
   "source": [
    "# on charge les résultats générés avec la méthode 1\n",
    "df = pd.read_csv('./analysis_results_v1.csv')\n",
    "df.head()"
   ]
  },
  {
   "cell_type": "code",
   "execution_count": 32,
   "metadata": {},
   "outputs": [
    {
     "data": {
      "text/html": [
       "<div>\n",
       "<style scoped>\n",
       "    .dataframe tbody tr th:only-of-type {\n",
       "        vertical-align: middle;\n",
       "    }\n",
       "\n",
       "    .dataframe tbody tr th {\n",
       "        vertical-align: top;\n",
       "    }\n",
       "\n",
       "    .dataframe thead th {\n",
       "        text-align: right;\n",
       "    }\n",
       "</style>\n",
       "<table border=\"1\" class=\"dataframe\">\n",
       "  <thead>\n",
       "    <tr style=\"text-align: right;\">\n",
       "      <th></th>\n",
       "      <th>fiche_ok</th>\n",
       "      <th>consistency_dense_no_lemma</th>\n",
       "      <th>consistency_sparse_no_lemma</th>\n",
       "    </tr>\n",
       "  </thead>\n",
       "  <tbody>\n",
       "    <tr>\n",
       "      <th>0</th>\n",
       "      <td>True</td>\n",
       "      <td>0.8</td>\n",
       "      <td>0.8</td>\n",
       "    </tr>\n",
       "    <tr>\n",
       "      <th>1</th>\n",
       "      <td>False</td>\n",
       "      <td>NaN</td>\n",
       "      <td>0.8</td>\n",
       "    </tr>\n",
       "    <tr>\n",
       "      <th>2</th>\n",
       "      <td>False</td>\n",
       "      <td>0.8</td>\n",
       "      <td>0.8</td>\n",
       "    </tr>\n",
       "    <tr>\n",
       "      <th>3</th>\n",
       "      <td>True</td>\n",
       "      <td>NaN</td>\n",
       "      <td>0.8</td>\n",
       "    </tr>\n",
       "    <tr>\n",
       "      <th>4</th>\n",
       "      <td>False</td>\n",
       "      <td>NaN</td>\n",
       "      <td>0.4</td>\n",
       "    </tr>\n",
       "  </tbody>\n",
       "</table>\n",
       "</div>"
      ],
      "text/plain": [
       "   fiche_ok  consistency_dense_no_lemma  consistency_sparse_no_lemma\n",
       "0      True                         0.8                          0.8\n",
       "1     False                         NaN                          0.8\n",
       "2     False                         0.8                          0.8\n",
       "3      True                         NaN                          0.8\n",
       "4     False                         NaN                          0.4"
      ]
     },
     "execution_count": 32,
     "metadata": {},
     "output_type": "execute_result"
    }
   ],
   "source": [
    "to_work = ['fiche_ok', 'consistency_dense_no_lemma', 'consistency_sparse_no_lemma']\n",
    "X = df[to_work]\n",
    "X.head()"
   ]
  },
  {
   "cell_type": "code",
   "execution_count": 33,
   "metadata": {},
   "outputs": [
    {
     "data": {
      "text/html": [
       "<div>\n",
       "<style scoped>\n",
       "    .dataframe tbody tr th:only-of-type {\n",
       "        vertical-align: middle;\n",
       "    }\n",
       "\n",
       "    .dataframe tbody tr th {\n",
       "        vertical-align: top;\n",
       "    }\n",
       "\n",
       "    .dataframe thead th {\n",
       "        text-align: right;\n",
       "    }\n",
       "</style>\n",
       "<table border=\"1\" class=\"dataframe\">\n",
       "  <thead>\n",
       "    <tr style=\"text-align: right;\">\n",
       "      <th></th>\n",
       "      <th>consistency_dense_no_lemma</th>\n",
       "      <th>consistency_sparse_no_lemma</th>\n",
       "    </tr>\n",
       "    <tr>\n",
       "      <th>fiche_ok</th>\n",
       "      <th></th>\n",
       "      <th></th>\n",
       "    </tr>\n",
       "  </thead>\n",
       "  <tbody>\n",
       "    <tr>\n",
       "      <th>False</th>\n",
       "      <td>0.712005</td>\n",
       "      <td>0.620793</td>\n",
       "    </tr>\n",
       "    <tr>\n",
       "      <th>True</th>\n",
       "      <td>0.836905</td>\n",
       "      <td>0.797351</td>\n",
       "    </tr>\n",
       "  </tbody>\n",
       "</table>\n",
       "</div>"
      ],
      "text/plain": [
       "          consistency_dense_no_lemma  consistency_sparse_no_lemma\n",
       "fiche_ok                                                         \n",
       "False                       0.712005                     0.620793\n",
       "True                        0.836905                     0.797351"
      ]
     },
     "execution_count": 33,
     "metadata": {},
     "output_type": "execute_result"
    }
   ],
   "source": [
    "X.groupby(['fiche_ok'])[['consistency_dense_no_lemma', 'consistency_sparse_no_lemma']].mean()"
   ]
  },
  {
   "cell_type": "code",
   "execution_count": 34,
   "metadata": {},
   "outputs": [
    {
     "data": {
      "text/html": [
       "<div>\n",
       "<style scoped>\n",
       "    .dataframe tbody tr th:only-of-type {\n",
       "        vertical-align: middle;\n",
       "    }\n",
       "\n",
       "    .dataframe tbody tr th {\n",
       "        vertical-align: top;\n",
       "    }\n",
       "\n",
       "    .dataframe thead th {\n",
       "        text-align: right;\n",
       "    }\n",
       "</style>\n",
       "<table border=\"1\" class=\"dataframe\">\n",
       "  <thead>\n",
       "    <tr style=\"text-align: right;\">\n",
       "      <th></th>\n",
       "      <th>consistency_dense_no_lemma</th>\n",
       "      <th>consistency_sparse_no_lemma</th>\n",
       "    </tr>\n",
       "    <tr>\n",
       "      <th>fiche_ok</th>\n",
       "      <th></th>\n",
       "      <th></th>\n",
       "    </tr>\n",
       "  </thead>\n",
       "  <tbody>\n",
       "    <tr>\n",
       "      <th>False</th>\n",
       "      <td>0.280841</td>\n",
       "      <td>0.286519</td>\n",
       "    </tr>\n",
       "    <tr>\n",
       "      <th>True</th>\n",
       "      <td>0.209522</td>\n",
       "      <td>0.228224</td>\n",
       "    </tr>\n",
       "  </tbody>\n",
       "</table>\n",
       "</div>"
      ],
      "text/plain": [
       "          consistency_dense_no_lemma  consistency_sparse_no_lemma\n",
       "fiche_ok                                                         \n",
       "False                       0.280841                     0.286519\n",
       "True                        0.209522                     0.228224"
      ]
     },
     "execution_count": 34,
     "metadata": {},
     "output_type": "execute_result"
    }
   ],
   "source": [
    "X.groupby(['fiche_ok'])[['consistency_dense_no_lemma', 'consistency_sparse_no_lemma']].std()"
   ]
  },
  {
   "cell_type": "markdown",
   "metadata": {},
   "source": [
    "On voit qu'il y a une différence de comportement plus fort sur l'indicateur de consistency pour le retriever sparse"
   ]
  },
  {
   "cell_type": "markdown",
   "metadata": {},
   "source": [
    "## Visualisation sur le sparse"
   ]
  },
  {
   "cell_type": "code",
   "execution_count": 41,
   "metadata": {},
   "outputs": [
    {
     "data": {
      "image/png": "[encoded data removed]",
      "text/plain": [
       "<Figure size 432x288 with 1 Axes>"
      ]
     },
     "metadata": {
      "needs_background": "light"
     },
     "output_type": "display_data"
    }
   ],
   "source": [
    "X_pass = X[X.fiche_ok == True]\n",
    "grouped = X_pass.groupby(['consistency_sparse_no_lemma'])['consistency_sparse_no_lemma'].count()\n",
    "total = grouped.sum()\n",
    "unstack_pass = (grouped * 100)/total\n",
    "plt.plot(unstack_pass, label = ('fiche_ok'))\n",
    "\n",
    "X_failed = X[X.fiche_ok == False]\n",
    "grouped = X_failed.groupby(['consistency_sparse_no_lemma'])['consistency_sparse_no_lemma'].count()\n",
    "total = grouped.sum()\n",
    "unstack_fail = (grouped * 100)/total\n",
    "plt.plot(unstack_fail, label = ('fiche_nok'))\n",
    "plt.legend()\n",
    "plt.show()"
   ]
  },
  {
   "cell_type": "code",
   "execution_count": 36,
   "metadata": {},
   "outputs": [
    {
     "data": {
      "image/png": "[encoded data removed]",
      "text/plain": [
       "<Figure size 432x288 with 1 Axes>"
      ]
     },
     "metadata": {
      "needs_background": "light"
     },
     "output_type": "display_data"
    }
   ],
   "source": [
    "plt.plot(unstack_pass/unstack_fail, label = 'ratio')\n",
    "plt.legend()\n",
    "plt.show()"
   ]
  },
  {
   "cell_type": "markdown",
   "metadata": {},
   "source": [
    "## Visualisation sur le dense"
   ]
  },
  {
   "cell_type": "code",
   "execution_count": 39,
   "metadata": {},
   "outputs": [
    {
     "data": {
      "image/png": "[encoded data removed]",
      "text/plain": [
       "<Figure size 432x288 with 1 Axes>"
      ]
     },
     "metadata": {
      "needs_background": "light"
     },
     "output_type": "display_data"
    }
   ],
   "source": [
    "X_pass = X[X.fiche_ok == True]\n",
    "grouped = X_pass.groupby(['consistency_dense_no_lemma'])['consistency_dense_no_lemma'].count()\n",
    "total = grouped.sum()\n",
    "unstack_pass = (grouped * 100)/total\n",
    "plt.plot(unstack_pass, label = ('fiche_ok'))\n",
    "\n",
    "X_failed = X[X.fiche_ok == False]\n",
    "grouped = X_failed.groupby(['consistency_dense_no_lemma'])['consistency_dense_no_lemma'].count()\n",
    "total = grouped.sum()\n",
    "unstack_fail = (grouped * 100)/total\n",
    "plt.plot(unstack_fail, label = ('fiche_nok'))\n",
    "plt.legend()\n",
    "plt.show()"
   ]
  },
  {
   "cell_type": "markdown",
   "metadata": {},
   "source": [
    "# Methode 2"
   ]
  },
  {
   "cell_type": "code",
   "execution_count": 22,
   "metadata": {},
   "outputs": [
    {
     "data": {
      "text/html": [
       "<div>\n",
       "<style scoped>\n",
       "    .dataframe tbody tr th:only-of-type {\n",
       "        vertical-align: middle;\n",
       "    }\n",
       "\n",
       "    .dataframe tbody tr th {\n",
       "        vertical-align: top;\n",
       "    }\n",
       "\n",
       "    .dataframe thead th {\n",
       "        text-align: right;\n",
       "    }\n",
       "</style>\n",
       "<table border=\"1\" class=\"dataframe\">\n",
       "  <thead>\n",
       "    <tr style=\"text-align: right;\">\n",
       "      <th></th>\n",
       "      <th>fiche_ok</th>\n",
       "      <th>consistency_dense_no_lemma</th>\n",
       "      <th>consistency_sparse_no_lemma</th>\n",
       "    </tr>\n",
       "  </thead>\n",
       "  <tbody>\n",
       "    <tr>\n",
       "      <th>0</th>\n",
       "      <td>True</td>\n",
       "      <td>0.8</td>\n",
       "      <td>0.8</td>\n",
       "    </tr>\n",
       "    <tr>\n",
       "      <th>1</th>\n",
       "      <td>False</td>\n",
       "      <td>NaN</td>\n",
       "      <td>0.8</td>\n",
       "    </tr>\n",
       "    <tr>\n",
       "      <th>2</th>\n",
       "      <td>False</td>\n",
       "      <td>0.8</td>\n",
       "      <td>0.8</td>\n",
       "    </tr>\n",
       "    <tr>\n",
       "      <th>3</th>\n",
       "      <td>True</td>\n",
       "      <td>NaN</td>\n",
       "      <td>0.8</td>\n",
       "    </tr>\n",
       "    <tr>\n",
       "      <th>4</th>\n",
       "      <td>False</td>\n",
       "      <td>NaN</td>\n",
       "      <td>0.4</td>\n",
       "    </tr>\n",
       "  </tbody>\n",
       "</table>\n",
       "</div>"
      ],
      "text/plain": [
       "   fiche_ok  consistency_dense_no_lemma  consistency_sparse_no_lemma\n",
       "0      True                         0.8                          0.8\n",
       "1     False                         NaN                          0.8\n",
       "2     False                         0.8                          0.8\n",
       "3      True                         NaN                          0.8\n",
       "4     False                         NaN                          0.4"
      ]
     },
     "execution_count": 22,
     "metadata": {},
     "output_type": "execute_result"
    }
   ],
   "source": [
    "# on charge les résultats générés avec la méthode 1\n",
    "df = pd.read_csv('./analysis_results_v2.csv')\n",
    "df = df[df.level == 'theme']\n",
    "to_work = ['fiche_ok', 'consistency_dense_no_lemma', 'consistency_sparse_no_lemma']\n",
    "X = df[to_work]\n",
    "X.head()"
   ]
  },
  {
   "cell_type": "code",
   "execution_count": 43,
   "metadata": {},
   "outputs": [
    {
     "data": {
      "text/html": [
       "<div>\n",
       "<style scoped>\n",
       "    .dataframe tbody tr th:only-of-type {\n",
       "        vertical-align: middle;\n",
       "    }\n",
       "\n",
       "    .dataframe tbody tr th {\n",
       "        vertical-align: top;\n",
       "    }\n",
       "\n",
       "    .dataframe thead th {\n",
       "        text-align: right;\n",
       "    }\n",
       "</style>\n",
       "<table border=\"1\" class=\"dataframe\">\n",
       "  <thead>\n",
       "    <tr style=\"text-align: right;\">\n",
       "      <th></th>\n",
       "      <th>consistency_dense_no_lemma</th>\n",
       "      <th>consistency_sparse_no_lemma</th>\n",
       "    </tr>\n",
       "    <tr>\n",
       "      <th>fiche_ok</th>\n",
       "      <th></th>\n",
       "      <th></th>\n",
       "    </tr>\n",
       "  </thead>\n",
       "  <tbody>\n",
       "    <tr>\n",
       "      <th>False</th>\n",
       "      <td>0.712005</td>\n",
       "      <td>0.620793</td>\n",
       "    </tr>\n",
       "    <tr>\n",
       "      <th>True</th>\n",
       "      <td>0.836905</td>\n",
       "      <td>0.797351</td>\n",
       "    </tr>\n",
       "  </tbody>\n",
       "</table>\n",
       "</div>"
      ],
      "text/plain": [
       "          consistency_dense_no_lemma  consistency_sparse_no_lemma\n",
       "fiche_ok                                                         \n",
       "False                       0.712005                     0.620793\n",
       "True                        0.836905                     0.797351"
      ]
     },
     "execution_count": 43,
     "metadata": {},
     "output_type": "execute_result"
    }
   ],
   "source": [
    "X.groupby(['fiche_ok'])[['consistency_dense_no_lemma', 'consistency_sparse_no_lemma']].mean()"
   ]
  },
  {
   "cell_type": "code",
   "execution_count": 44,
   "metadata": {},
   "outputs": [
    {
     "data": {
      "text/html": [
       "<div>\n",
       "<style scoped>\n",
       "    .dataframe tbody tr th:only-of-type {\n",
       "        vertical-align: middle;\n",
       "    }\n",
       "\n",
       "    .dataframe tbody tr th {\n",
       "        vertical-align: top;\n",
       "    }\n",
       "\n",
       "    .dataframe thead th {\n",
       "        text-align: right;\n",
       "    }\n",
       "</style>\n",
       "<table border=\"1\" class=\"dataframe\">\n",
       "  <thead>\n",
       "    <tr style=\"text-align: right;\">\n",
       "      <th></th>\n",
       "      <th>consistency_dense_no_lemma</th>\n",
       "      <th>consistency_sparse_no_lemma</th>\n",
       "    </tr>\n",
       "    <tr>\n",
       "      <th>fiche_ok</th>\n",
       "      <th></th>\n",
       "      <th></th>\n",
       "    </tr>\n",
       "  </thead>\n",
       "  <tbody>\n",
       "    <tr>\n",
       "      <th>False</th>\n",
       "      <td>0.280841</td>\n",
       "      <td>0.286519</td>\n",
       "    </tr>\n",
       "    <tr>\n",
       "      <th>True</th>\n",
       "      <td>0.209522</td>\n",
       "      <td>0.228224</td>\n",
       "    </tr>\n",
       "  </tbody>\n",
       "</table>\n",
       "</div>"
      ],
      "text/plain": [
       "          consistency_dense_no_lemma  consistency_sparse_no_lemma\n",
       "fiche_ok                                                         \n",
       "False                       0.280841                     0.286519\n",
       "True                        0.209522                     0.228224"
      ]
     },
     "execution_count": 44,
     "metadata": {},
     "output_type": "execute_result"
    }
   ],
   "source": [
    "X.groupby(['fiche_ok'])[['consistency_dense_no_lemma', 'consistency_sparse_no_lemma']].std()"
   ]
  },
  {
   "cell_type": "markdown",
   "metadata": {},
   "source": [
    "On voit qu'il y a une différence de comportement significatif sur l'indicateur de consistency pour le retriever sparse"
   ]
  },
  {
   "cell_type": "code",
   "execution_count": 45,
   "metadata": {},
   "outputs": [
    {
     "data": {
      "image/png": "[encoded data removed]",
      "text/plain": [
       "<Figure size 432x288 with 1 Axes>"
      ]
     },
     "metadata": {
      "needs_background": "light"
     },
     "output_type": "display_data"
    }
   ],
   "source": [
    "X_pass = X[X.fiche_ok == True]\n",
    "grouped = X_pass.groupby(['consistency_sparse_no_lemma'])['consistency_sparse_no_lemma'].count()\n",
    "total = grouped.sum()\n",
    "unstack_pass = (grouped * 100)/total\n",
    "plt.plot(unstack_pass, label = ('fiche_ok'))\n",
    "\n",
    "X_failed = X[X.fiche_ok == False]\n",
    "grouped = X_failed.groupby(['consistency_sparse_no_lemma'])['consistency_sparse_no_lemma'].count()\n",
    "total = grouped.sum()\n",
    "unstack_fail = (grouped * 100)/total\n",
    "plt.plot(unstack_fail, label = ('fiche_nok'))\n",
    "plt.legend()\n",
    "plt.show()"
   ]
  },
  {
   "cell_type": "code",
   "execution_count": 46,
   "metadata": {},
   "outputs": [
    {
     "data": {
      "image/png": "[encoded data removed]",
      "text/plain": [
       "<Figure size 432x288 with 1 Axes>"
      ]
     },
     "metadata": {
      "needs_background": "light"
     },
     "output_type": "display_data"
    }
   ],
   "source": [
    "plt.plot(unstack_pass/unstack_fail, label = 'ratio')\n",
    "plt.legend()\n",
    "plt.show()"
   ]
  },
  {
   "cell_type": "code",
   "execution_count": 51,
   "metadata": {},
   "outputs": [
    {
     "name": "stdout",
     "output_type": "stream",
     "text": [
      "[[ 593 1071]\n",
      " [  36  266]]\n",
      "              precision    recall  f1-score   support\n",
      "\n",
      "       False       0.94      0.36      0.52      1664\n",
      "        True       0.20      0.88      0.32       302\n",
      "\n",
      "    accuracy                           0.44      1966\n",
      "   macro avg       0.57      0.62      0.42      1966\n",
      "weighted avg       0.83      0.44      0.49      1966\n",
      "\n"
     ]
    }
   ],
   "source": [
    "from sklearn.metrics import confusion_matrix, classification_report\n",
    "to_work = ['fiche_ok', 'consistency_sparse_no_lemma']\n",
    "X = df[to_work]\n",
    "X = X.dropna()\n",
    "y_true = X['fiche_ok']\n",
    "y_pred = X['consistency_sparse_no_lemma'] > 0.5\n",
    "print(confusion_matrix(y_true, y_pred))\n",
    "print(classification_report(y_true, y_pred))"
   ]
  },
  {
   "cell_type": "markdown",
   "metadata": {},
   "source": [
    "# Conclusion\n",
    "Il n'y a pas de grosse différence entre les deux méthodes. On peut prendre une limite de consistency à 0.5 pour choisir de rejeter les fiches "
   ]
  },
  {
   "cell_type": "markdown",
   "metadata": {},
   "source": [
    "# NEXT"
   ]
  },
  {
   "cell_type": "markdown",
   "metadata": {},
   "source": [
    "faire la même chose pour déterminer le score limite pour le niveau dossier "
   ]
  }
 ],
 "metadata": {
  "kernelspec": {
   "display_name": "piaf-ml",
   "language": "python",
   "name": "piaf-ml"
  },
  "language_info": {
   "codemirror_mode": {
    "name": "ipython",
    "version": 3
   },
   "file_extension": ".py",
   "mimetype": "text/x-python",
   "name": "python",
   "nbconvert_exporter": "python",
   "pygments_lexer": "ipython3",
   "version": "3.8.5"
  }
 },
 "nbformat": 4,
 "nbformat_minor": 4
}
