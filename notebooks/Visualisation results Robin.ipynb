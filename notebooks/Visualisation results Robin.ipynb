{
 "cells": [
  {
   "cell_type": "code",
   "execution_count": 1,
   "metadata": {},
   "outputs": [],
   "source": [
    "import pandas as pd"
   ]
  },
  {
   "cell_type": "code",
   "execution_count": 16,
   "metadata": {},
   "outputs": [],
   "source": [
    "results = pd.read_csv('results.csv')"
   ]
  },
  {
   "cell_type": "markdown",
   "metadata": {},
   "source": [
    "### Visualisation de la précision dense vs sparse"
   ]
  },
  {
   "cell_type": "markdown",
   "metadata": {},
   "source": [
    "On visualise ici les différentes performances selon le type de retriever choisi (sparse / dense). <br> Dans le notebook *Visualisation results* (results de Pavel) on visualisait la performance pour chaque test, ici on visualise plutot la *performance moyenne* comme plusieurs tests ont été faits."
   ]
  },
  {
   "cell_type": "code",
   "execution_count": 34,
   "metadata": {},
   "outputs": [
    {
     "name": "stdout",
     "output_type": "stream",
     "text": [
      "précision moyenne par rapport à k et retriever type: \n",
      " k  retriever_type\n",
      "1  dense             0.148723\n",
      "   sparse            0.064119\n",
      "2  sparse            0.096175\n",
      "3  dense             0.180935\n",
      "   sparse            0.141046\n",
      "5  dense             0.195227\n",
      "   sparse            0.223111\n",
      "Name: precision, dtype: float64\n"
     ]
    },
    {
     "data": {
      "text/plain": [
       "<matplotlib.axes._subplots.AxesSubplot at 0x7f9459e37250>"
      ]
     },
     "execution_count": 34,
     "metadata": {},
     "output_type": "execute_result"
    },
    {
     "data": {
      "image/png": "[encoded data removed]",
      "text/plain": [
       "<Figure size 432x288 with 1 Axes>"
      ]
     },
     "metadata": {
      "needs_background": "light"
     },
     "output_type": "display_data"
    }
   ],
   "source": [
    "results_dense_sparse = results[results['filter_level'].isnull()]\n",
    "results_dense_sparse.set_index('k', inplace=True)\n",
    "mean_prec_sparse_dense = results_dense_sparse.groupby(['k','retriever_type'])['precision'].mean()\n",
    "print(\"précision moyenne par rapport à k et retriever type: \\n\", mean_prec_sparse_dense)\n",
    "mean_prec_sparse_dense.unstack().plot(kind='bar', stacked=True,legend=True)"
   ]
  },
  {
   "cell_type": "markdown",
   "metadata": {},
   "source": [
    "Globalement le retriever *dense* donne des meilleurs résultats, sauf pour le cas k=5"
   ]
  },
  {
   "cell_type": "markdown",
   "metadata": {},
   "source": [
    "### Visualisation des résultats avec filtrage par dossier"
   ]
  },
  {
   "cell_type": "code",
   "execution_count": 41,
   "metadata": {},
   "outputs": [
    {
     "name": "stdout",
     "output_type": "stream",
     "text": [
      "précision moyenne par rapport à k et au type de retriever pour filtrage 'dossier': \n",
      " k  retriever_type\n",
      "1  dense             0.344698\n",
      "   sparse            0.323747\n",
      "2  sparse            0.313275\n",
      "3  dense             0.406866\n",
      "   sparse            0.408369\n",
      "5  dense             0.426887\n",
      "   sparse            0.565911\n",
      "Name: precision, dtype: float64\n"
     ]
    },
    {
     "data": {
      "text/plain": [
       "<matplotlib.axes._subplots.AxesSubplot at 0x7f945a654cd0>"
      ]
     },
     "execution_count": 41,
     "metadata": {},
     "output_type": "execute_result"
    },
    {
     "data": {
      "image/png": "[encoded data removed]",
      "text/plain": [
       "<Figure size 432x288 with 1 Axes>"
      ]
     },
     "metadata": {
      "needs_background": "light"
     },
     "output_type": "display_data"
    }
   ],
   "source": [
    "results_filtrage_dossier = results[results['filter_level']=='dossier']\n",
    "results_filtrage_dossier.set_index('k', inplace=True)\n",
    "mean_prec_filtrage_dossier = results_filtrage_dossier.groupby(['k','retriever_type'])['precision'].mean()\n",
    "print(\"précision moyenne par rapport à k et au type de retriever pour filtrage 'dossier': \\n\", mean_prec_filtrage_dossier)\n",
    "mean_prec_filtrage_dossier.unstack().plot(kind='bar',stacked=True,legend=True)"
   ]
  },
  {
   "cell_type": "markdown",
   "metadata": {},
   "source": [
    "### Visualisation des résultats avec filtrage par thème"
   ]
  },
  {
   "cell_type": "code",
   "execution_count": 43,
   "metadata": {},
   "outputs": [
    {
     "name": "stdout",
     "output_type": "stream",
     "text": [
      "précision moyenne par rapport à k et au type de retriever pour filtrage 'thème': \n",
      " k  retriever_type\n",
      "1  dense             0.174294\n",
      "   sparse            0.154648\n",
      "2  sparse            0.219396\n",
      "3  dense             0.260636\n",
      "   sparse            0.218612\n",
      "5  dense             0.282137\n",
      "   sparse            0.216205\n",
      "Name: precision, dtype: float64\n"
     ]
    },
    {
     "data": {
      "text/plain": [
       "<matplotlib.axes._subplots.AxesSubplot at 0x7f945a839e10>"
      ]
     },
     "execution_count": 43,
     "metadata": {},
     "output_type": "execute_result"
    },
    {
     "data": {
      "image/png": "[encoded data removed]",
      "text/plain": [
       "<Figure size 432x288 with 1 Axes>"
      ]
     },
     "metadata": {
      "needs_background": "light"
     },
     "output_type": "display_data"
    }
   ],
   "source": [
    "results_filtrage_theme = results[results['filter_level']=='theme']\n",
    "results_filtrage_theme.set_index('k', inplace=True)\n",
    "mean_prec_filtrage_theme = results_filtrage_theme.groupby(['k','retriever_type'])['precision'].mean()\n",
    "print(\"précision moyenne par rapport à k et au type de retriever pour filtrage 'thème': \\n\", mean_prec_filtrage_theme)\n",
    "mean_prec_filtrage_theme.unstack().plot(kind='bar',stacked=True,legend=True)"
   ]
  },
  {
   "cell_type": "code",
   "execution_count": 81,
   "metadata": {},
   "outputs": [
    {
     "name": "stdout",
     "output_type": "stream",
     "text": [
      "134\n",
      "sparse    105\n",
      "dense      29\n",
      "Name: retriever_type, dtype: int64\n",
      "24\n",
      "sparse    18\n",
      "dense      6\n",
      "Name: retriever_type, dtype: int64\n",
      "41\n",
      "sparse    27\n",
      "dense     14\n",
      "Name: retriever_type, dtype: int64\n"
     ]
    }
   ],
   "source": [
    "#Pourquoi meilleure performance pour dense ici?\n",
    "print(len(results))\n",
    "print(results['retriever_type'].value_counts())\n",
    "\n",
    "\n",
    "print(len(results_filtrage_dossier))\n",
    "print(results_filtrage_dossier['retriever_type'].value_counts())\n",
    "\n",
    "print(len(results_filtrage_theme))\n",
    "print(results_filtrage_theme['retriever_type'].value_counts())"
   ]
  },
  {
   "cell_type": "markdown",
   "metadata": {},
   "source": [
    "#### Conclusions:\n",
    "- remarque: par rapport au notebook précédent, ici vu la forme des données j'ai plutot évalué la performance moyenne (pas possible d'en faire sur les données précédentes), donc les deux notebooks ne sont pas exactement comparables\n",
    "- visualisation par type de retriever, **sans filtrage**: \n",
    "    - **comme pour les résultats trouvés par Pavel, ici le retriever dense a une meilleure performance en moyenne, sauf pour k $\\geq$ 5, où le sparse devient meilleur dans les résultats trouvés par Robin**\n",
    "    - **toujours une performance autour de 0.2 sans filtrage**\n",
    "- Avec filtrage:\n",
    "    - tout comme pour les résultats de Pavel, le filtrage *dossier* a une meilleure performance par rapport à *theme* et en termes de performance absolue (en moyenne)\n",
    "    - **le choix *(dossier,sparse)* reste le plus performant**\n",
    "    - cependant, pour le filtrage par *thème*, ici le retriever *dense* donne des meilleurs résultats\n",
    "        - **possible explication: la classe 'dense' est sous-representée lors du filtrage, cela pourrait donc infuencer les résultats de performance**"
   ]
  }
 ],
 "metadata": {
  "kernelspec": {
   "display_name": "Python 3",
   "language": "python",
   "name": "python3"
  },
  "language_info": {
   "codemirror_mode": {
    "name": "ipython",
    "version": 3
   },
   "file_extension": ".py",
   "mimetype": "text/x-python",
   "name": "python",
   "nbconvert_exporter": "python",
   "pygments_lexer": "ipython3",
   "version": "3.7.6"
  }
 },
 "nbformat": 4,
 "nbformat_minor": 4
}
