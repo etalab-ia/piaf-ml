{
 "cells": [
  {
   "cell_type": "code",
   "execution_count": 27,
   "metadata": {},
   "outputs": [],
   "source": [
    "import json\n",
    "import numpy as np"
   ]
  },
  {
   "attachments": {},
   "cell_type": "markdown",
   "metadata": {},
   "source": [
    "This notebook scmpares the errors of the sparse vs dense retriever\n",
    "Specifically, I compare two detailed_results JSON files: \n",
    "1. `f615.json` 5 dossier dense 403 (P=0.45)\n",
    "2. `9abf.json` 5 dossier sparse 403 (P=0.55)\n"
   ]
  },
  {
   "cell_type": "code",
   "execution_count": 13,
   "metadata": {},
   "outputs": [],
   "source": [
    "dense_json = json.load(open(\"../results/f615_detailed_results.json\"))\n",
    "sparse_json = json.load(open(\"../results/9abf_detailed_results.json\"))"
   ]
  },
  {
   "cell_type": "code",
   "execution_count": null,
   "metadata": {},
   "outputs": [],
   "source": []
  },
  {
   "cell_type": "code",
   "execution_count": 2,
   "metadata": {},
   "outputs": [],
   "source": [
    "## Which ones are correct in sparse are correct in dense ?"
   ]
  },
  {
   "cell_type": "code",
   "execution_count": 46,
   "metadata": {},
   "outputs": [
    {
     "name": "stdout",
     "output_type": "stream",
     "text": [
      "231\n"
     ]
    }
   ],
   "source": [
    "dense_correct = dense_json[\"successes\"]\n",
    "dense_errors = dense_json[\"errors\"]\n",
    "print(len(dense_correct))"
   ]
  },
  {
   "cell_type": "code",
   "execution_count": 47,
   "metadata": {},
   "outputs": [
    {
     "name": "stdout",
     "output_type": "stream",
     "text": [
      "286\n"
     ]
    }
   ],
   "source": [
    "sparse_correct = sparse_json[\"successes\"]\n",
    "dense_errors = dense_json[\"errors\"]\n",
    "print(len(sparse_correct))"
   ]
  },
  {
   "cell_type": "markdown",
   "metadata": {},
   "source": [
    "* There are 55 questions that are correctly answered by the sparse retriever and incorrectly ansered by the dense retriever"
   ]
  },
  {
   "cell_type": "code",
   "execution_count": 67,
   "metadata": {},
   "outputs": [],
   "source": [
    "sparse_correct_diff = list(set.difference(set(sparse_correct.keys()), dense_correct.keys()))\n",
    "dense_correct_diff =  list(set.difference(set(dense_correct.keys()), sparse_correct.keys()))"
   ]
  },
  {
   "cell_type": "code",
   "execution_count": 68,
   "metadata": {},
   "outputs": [
    {
     "name": "stdout",
     "output_type": "stream",
     "text": [
      "95\n",
      "40\n"
     ]
    }
   ],
   "source": [
    "print(len(sparse_correct_diff))\n",
    "print(len(dense_correct_diff))"
   ]
  },
  {
   "cell_type": "code",
   "execution_count": null,
   "metadata": {},
   "outputs": [],
   "source": []
  },
  {
   "cell_type": "code",
   "execution_count": 57,
   "metadata": {},
   "outputs": [],
   "source": [
    "index = 15"
   ]
  },
  {
   "cell_type": "code",
   "execution_count": 58,
   "metadata": {},
   "outputs": [
    {
     "name": "stdout",
     "output_type": "stream",
     "text": [
      "Pour un départ à la retraite en 2018,est-ce que la prime de départ sera soumise à l'impôt sur le revenu en 2019?\n"
     ]
    },
    {
     "data": {
      "text/plain": [
       "{'pred_fiche': ['F408--indemnites-traite-47.json',\n",
       "  'F3178--indemnite--traite-64--declaratio--ligne-20.json',\n",
       "  'F3178--indemnite--traite-64--declaratio-papier-18.json',\n",
       "  'F3178--prime-de-d-ntaire-26--declaratio--ligne-20.json',\n",
       "  'F3178--prime-de-d-ntaire-26--declaratio-papier-18.json'],\n",
       " 'true_fiche': ['F408']}"
      ]
     },
     "execution_count": 58,
     "metadata": {},
     "output_type": "execute_result"
    }
   ],
   "source": [
    "print(sparse_correct_diff[index])\n",
    "sparse_correct[sparse_correct_diff[index]]"
   ]
  },
  {
   "cell_type": "code",
   "execution_count": 59,
   "metadata": {},
   "outputs": [
    {
     "data": {
      "text/plain": [
       "{'pred_fiche': ['F3178--indemnite--traite-64--declaratio-papier-18.json',\n",
       "  'F3178--indemnite--traite-64--declaratio--ligne-20.json',\n",
       "  'F3178--prime-de-d-ntaire-26--declaratio--ligne-20.json',\n",
       "  'F3178--prime-de-d-ntaire-26--declaratio-papier-18.json',\n",
       "  'F410--declaratio-papier-18.json'],\n",
       " 'true_fiche': ['F408']}"
      ]
     },
     "execution_count": 59,
     "metadata": {},
     "output_type": "execute_result"
    }
   ],
   "source": [
    "dense_errors[sparse_correct_diff[index]]"
   ]
  },
  {
   "cell_type": "code",
   "execution_count": 70,
   "metadata": {},
   "outputs": [
    {
     "name": "stdout",
     "output_type": "stream",
     "text": [
      "191\n"
     ]
    }
   ],
   "source": [
    "inter = np.intersect1d(list(sparse_correct.keys()), list(dense_correct.keys()))\n",
    "print(len(inter))"
   ]
  },
  {
   "cell_type": "code",
   "execution_count": 71,
   "metadata": {
    "scrolled": false
   },
   "outputs": [
    {
     "data": {
      "text/plain": [
       "326"
      ]
     },
     "execution_count": 71,
     "metadata": {},
     "output_type": "execute_result"
    }
   ],
   "source": [
    "191+135"
   ]
  }
 ],
 "metadata": {
  "kernelspec": {
   "display_name": "Python 3",
   "language": "python",
   "name": "python3"
  },
  "language_info": {
   "codemirror_mode": {
    "name": "ipython",
    "version": 3
   },
   "file_extension": ".py",
   "mimetype": "text/x-python",
   "name": "python",
   "nbconvert_exporter": "python",
   "pygments_lexer": "ipython3",
   "version": "3.7.7"
  }
 },
 "nbformat": 4,
 "nbformat_minor": 4
}
